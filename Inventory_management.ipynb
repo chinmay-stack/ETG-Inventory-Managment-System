{
  "nbformat": 4,
  "nbformat_minor": 0,
  "metadata": {
    "colab": {
      "name": "Inventory_management.ipynb",
      "provenance": [],
      "collapsed_sections": []
    },
    "kernelspec": {
      "name": "python3",
      "display_name": "Python 3"
    },
    "language_info": {
      "name": "python"
    }
  },
  "cells": [
    {
      "cell_type": "markdown",
      "metadata": {
        "id": "QPlDZWmQHI70"
      },
      "source": [
        "Fetching data from records.json using file handeling.."
      ]
    },
    {
      "cell_type": "code",
      "metadata": {
        "id": "TNWbV24Ggb_w"
      },
      "source": [
        "import json\n",
        "fd = open(\"records.json\",'r')\n",
        "r = fd.read()\n",
        "fd.close()\n",
        "record = json.loads(r)\n"
      ],
      "execution_count": 126,
      "outputs": []
    },
    {
      "cell_type": "markdown",
      "metadata": {
        "id": "ntBrZU0eHZBU"
      },
      "source": [
        "Fetching data from sales.json using file handeling."
      ]
    },
    {
      "cell_type": "code",
      "metadata": {
        "id": "rJEtm4HJh_R2"
      },
      "source": [
        "import json\n",
        "ff = open(\"sales.json\",'r')\n",
        "r = ff.read()\n",
        "ff.close()\n",
        "sale = json.loads(r)"
      ],
      "execution_count": 127,
      "outputs": []
    },
    {
      "cell_type": "markdown",
      "metadata": {
        "id": "t3LzMfl2oNIQ"
      },
      "source": [
        "Purchase function\n"
      ]
    },
    {
      "cell_type": "code",
      "metadata": {
        "id": "iHoQ2XcliYke"
      },
      "source": [
        "prod_id,quant = input(\"Enter the product Id and Quantity(Please give a space between productID and quantity)\\n\").split()\n",
        "q=int(quant)\n",
        "print('--------------------------------------------------------')\n",
        "if prod_id in record:\n",
        "  if q<=record[prod_id]['qn']:\n",
        "    record[prod_id]['qn']-=q\n",
        "    print('--------------------------------------------------------')\n",
        "    print('--------------------------------------------------------')\n",
        "    print(\"  Product name:\",record[prod_id]['name'])\n",
        "    print(\"  Product price:\",record[prod_id]['pr'])\n",
        "    print(\"  Billing amount:\",record[prod_id]['pr']*q)\n",
        "    print('--------------------------------------------------------')\n",
        "    print('--------------------------------------------------------')\n",
        "  else:\n",
        "    print('--------------------------------------------------------')\n",
        "    print('--------------------------------------------------------')\n",
        "    print(\"  Required quantity is not available. Available quantity is:\",record[prod_id]['qn'])\n",
        "    print(\"  Product name:\",record[prod_id]['name'])\n",
        "    print(\"  Product price:\",record[prod_id]['pr'])\n",
        "    print('--------------------------------------------------------')\n",
        "    print('--------------------------------------------------------')\n",
        "else:\n",
        "  print('--------------------------------------------------------')\n",
        "  print(\"  Sorry,There is no such type of product available\")\n",
        "  print('--------------------------------------------------------')\n"
      ],
      "execution_count": null,
      "outputs": []
    },
    {
      "cell_type": "markdown",
      "metadata": {
        "id": "M59HCEtqsR5n"
      },
      "source": [
        "Read Inventory,Update Inventory and Adding a new item in Invertory"
      ]
    },
    {
      "cell_type": "code",
      "metadata": {
        "id": "vzeU-kDTqD1x"
      },
      "source": [
        "n=int(input(\"If you want to see the product list then press 1\\nIf you adding some quantity of product or adding new product press 2\\n\"))\n",
        "print('--------------------------------------------------------')\n",
        "if n==1:\n",
        "  print(record)\n",
        "else:\n",
        "  prod_id = input(\"Enter the productID\\n\")\n",
        "  if prod_id in record:\n",
        "    q = int(input(\"Enter the Quantity\\n\"))\n",
        "    record[prod_id]['qn']+=q\n",
        "  else:\n",
        "    name = (input(\"Enter the Name Of Product\\n\"))\n",
        "    q = int(input(\"Enter the Quantity\\n\"))\n",
        "    p = int(input(\"Enter the Price\\n\"))\n",
        "    record[prod_id] = {'name': name, 'pr': p, 'qn': q}\n",
        "  print(\"Successfully Added\")\n",
        "print('--------------------------------------------------------')\n",
        "print('--------------------------------------------------------')"
      ],
      "execution_count": null,
      "outputs": []
    },
    {
      "cell_type": "markdown",
      "metadata": {
        "id": "dUcBiNz0sly5"
      },
      "source": [
        "saving an updated file in records.json"
      ]
    },
    {
      "cell_type": "code",
      "metadata": {
        "id": "74jRTcbN4ISI"
      },
      "source": [
        "import json\n",
        "js = json.dumps(record)\n",
        "fd = open('records.json','w')\n",
        "fd.write(js)\n",
        "fd.close()\n",
        "\n",
        "import json\n",
        "fd = open(\"records.json\",'r')\n",
        "r = fd.read()\n",
        "fd.close()\n",
        "rec = json.loads(r)"
      ],
      "execution_count": 130,
      "outputs": []
    },
    {
      "cell_type": "markdown",
      "metadata": {
        "id": "Bbk1A_9AuxNe"
      },
      "source": [
        "Sales.json file"
      ]
    },
    {
      "cell_type": "code",
      "metadata": {
        "id": "kpOdFRSqF3TH"
      },
      "source": [
        "if prod_id in record:\n",
        "  sale[len(sale)+1] = {'amount': record[prod_id]['pr']*q, 'prod': prod_id, 'qn' : q}"
      ],
      "execution_count": 131,
      "outputs": []
    },
    {
      "cell_type": "code",
      "metadata": {
        "id": "Mvi8sGvhANeq"
      },
      "source": [
        "sajs = json.dumps(sale)\n",
        "ff = open('sales.json','w')\n",
        "ff.write(sajs)\n",
        "ff.close()\n",
        "\n",
        "import json\n",
        "ff = open(\"sales.json\",'r')\n",
        "r = ff.read()\n",
        "ff.close()\n",
        "sale = json.loads(r)"
      ],
      "execution_count": 132,
      "outputs": []
    },
    {
      "cell_type": "code",
      "metadata": {
        "id": "QKg8rW6zBxLl"
      },
      "source": [
        "sale"
      ],
      "execution_count": null,
      "outputs": []
    }
  ]
}